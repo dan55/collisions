{
 "cells": [
  {
   "cell_type": "markdown",
   "metadata": {},
   "source": [
    "### Vehicle Collision Analysis\n",
    "\n",
    "Analyst: Daniel Elkin <br />\n",
    "Date: 06/12/2019"
   ]
  },
  {
   "cell_type": "code",
   "execution_count": 270,
   "metadata": {
    "collapsed": true
   },
   "outputs": [],
   "source": [
    "import numpy as np\n",
    "import matplotlib as plt\n",
    "import pandas as pd"
   ]
  },
  {
   "cell_type": "code",
   "execution_count": 177,
   "metadata": {
    "collapsed": true
   },
   "outputs": [],
   "source": [
    "%matplotlib inline"
   ]
  },
  {
   "cell_type": "markdown",
   "metadata": {},
   "source": [
    "#### I. Data Loading and Validation"
   ]
  },
  {
   "cell_type": "code",
   "execution_count": 276,
   "metadata": {},
   "outputs": [
    {
     "name": "stdout",
     "output_type": "stream",
     "text": [
      "There are 1000 rows. The first of which is: \n",
      "\n"
     ]
    }
   ],
   "source": [
    "data_file = \"data/small.csv\"\n",
    "# data_file = \"data/NYPD_Motor_Vehicle_Collisions.csv\"\n",
    "\n",
    "rows = !wc -l < $data_file\n",
    "rows = int(rows[0])\n",
    "\n",
    "print(f\"There are {rows} rows. The first of which is: \\n\")"
   ]
  },
  {
   "cell_type": "code",
   "execution_count": 228,
   "metadata": {
    "collapsed": true
   },
   "outputs": [],
   "source": [
    "df = pd.read_csv(data_file, \n",
    "                 index_col=\"DATE_TIME\",\n",
    "                 parse_dates=[[\"DATE\", \"TIME\"]],\n",
    "                 usecols=[\"DATE\", \"TIME\", \"UNIQUE KEY\", \"BOROUGH\"]\n",
    "                )"
   ]
  },
  {
   "cell_type": "code",
   "execution_count": 230,
   "metadata": {},
   "outputs": [
    {
     "name": "stdout",
     "output_type": "stream",
     "text": [
      "<class 'pandas.core.frame.DataFrame'>\n",
      "DatetimeIndex: 1509269 entries, 2019-06-04 00:00:00 to 2012-07-01 09:59:00\n",
      "Data columns (total 2 columns):\n",
      "BOROUGH       1056352 non-null object\n",
      "UNIQUE KEY    1509269 non-null int64\n",
      "dtypes: int64(1), object(1)\n",
      "memory usage: 34.5+ MB\n"
     ]
    }
   ],
   "source": [
    "df.info()\n"
   ]
  },
  {
   "cell_type": "code",
   "execution_count": 231,
   "metadata": {
    "collapsed": true
   },
   "outputs": [],
   "source": [
    "df.rename(columns=lambda c: c.lower().replace(\" \", \"_\"), inplace=True)\n",
    "df.index.names=[\"date_time\"]"
   ]
  },
  {
   "cell_type": "code",
   "execution_count": 232,
   "metadata": {},
   "outputs": [
    {
     "data": {
      "text/html": [
       "<div>\n",
       "<style>\n",
       "    .dataframe thead tr:only-child th {\n",
       "        text-align: right;\n",
       "    }\n",
       "\n",
       "    .dataframe thead th {\n",
       "        text-align: left;\n",
       "    }\n",
       "\n",
       "    .dataframe tbody tr th {\n",
       "        vertical-align: top;\n",
       "    }\n",
       "</style>\n",
       "<table border=\"1\" class=\"dataframe\">\n",
       "  <thead>\n",
       "    <tr style=\"text-align: right;\">\n",
       "      <th></th>\n",
       "      <th>borough</th>\n",
       "      <th>unique_key</th>\n",
       "    </tr>\n",
       "    <tr>\n",
       "      <th>date_time</th>\n",
       "      <th></th>\n",
       "      <th></th>\n",
       "    </tr>\n",
       "  </thead>\n",
       "  <tbody>\n",
       "    <tr>\n",
       "      <th>2019-06-04</th>\n",
       "      <td>BRONX</td>\n",
       "      <td>4144652</td>\n",
       "    </tr>\n",
       "    <tr>\n",
       "      <th>2019-06-04</th>\n",
       "      <td>BRONX</td>\n",
       "      <td>4145339</td>\n",
       "    </tr>\n",
       "    <tr>\n",
       "      <th>2019-06-04</th>\n",
       "      <td>BROOKLYN</td>\n",
       "      <td>4145344</td>\n",
       "    </tr>\n",
       "    <tr>\n",
       "      <th>2019-06-04</th>\n",
       "      <td>MANHATTAN</td>\n",
       "      <td>4145985</td>\n",
       "    </tr>\n",
       "    <tr>\n",
       "      <th>2019-06-04</th>\n",
       "      <td>MANHATTAN</td>\n",
       "      <td>4144953</td>\n",
       "    </tr>\n",
       "  </tbody>\n",
       "</table>\n",
       "</div>"
      ],
      "text/plain": [
       "              borough  unique_key\n",
       "date_time                        \n",
       "2019-06-04      BRONX     4144652\n",
       "2019-06-04      BRONX     4145339\n",
       "2019-06-04   BROOKLYN     4145344\n",
       "2019-06-04  MANHATTAN     4145985\n",
       "2019-06-04  MANHATTAN     4144953"
      ]
     },
     "execution_count": 232,
     "metadata": {},
     "output_type": "execute_result"
    }
   ],
   "source": [
    "df.head()"
   ]
  },
  {
   "cell_type": "code",
   "execution_count": 255,
   "metadata": {},
   "outputs": [
    {
     "data": {
      "text/plain": [
       "borough       452917\n",
       "unique_key         0\n",
       "dtype: int64"
      ]
     },
     "execution_count": 255,
     "metadata": {},
     "output_type": "execute_result"
    }
   ],
   "source": [
    "df.isnull().sum()"
   ]
  },
  {
   "cell_type": "code",
   "execution_count": 233,
   "metadata": {},
   "outputs": [
    {
     "data": {
      "image/png": "[encoded data removed]",
      "text/plain": [
       "<Figure size 720x360 with 1 Axes>"
      ]
     },
     "metadata": {},
     "output_type": "display_data"
    }
   ],
   "source": [
    "group = df.groupby(df.index.hour).count().unique_key\n",
    "ax = group.plot(kind=\"bar\", \n",
    "                figsize=(10, 5),\n",
    "                title=\"Vehicle collisions by hour of day \\n (all boroughs - 2018)\")\n",
    "\n",
    "ax.set_xlabel(\"Hour of day\")\n",
    "_ = ax.set_ylabel(\"Number of collisions\")"
   ]
  },
  {
   "cell_type": "code",
   "execution_count": 275,
   "metadata": {},
   "outputs": [
    {
     "data": {
      "image/png": "[encoded data removed]",
      "text/plain": [
       "<Figure size 720x360 with 1 Axes>"
      ]
     },
     "metadata": {},
     "output_type": "display_data"
    }
   ],
   "source": [
    "# Note that we have missing data - possible borough is recorded more often for Brooklyn?\n",
    "group = df.groupby([df.index.hour, \"borough\"]).unique_key.count().unstack()\n",
    "\n",
    "boroughs = [str(b).title() \n",
    "            for b in df.borough.dropna().unique()]\n",
    "ax = group.plot(figsize=(10, 5), xticks=range(0, 24), title=\"Vehicle collisions by hour of day (2018)\")\n",
    "ax.set_xlabel(\"Hour of day\")\n",
    "ax.set_ylabel(\"Number of collisions\")\n",
    "_ = ax.legend(boroughs)"
   ]
  },
  {
   "cell_type": "code",
   "execution_count": 247,
   "metadata": {},
   "outputs": [
    {
     "data": {
      "text/plain": [
       "14910"
      ]
     },
     "execution_count": 247,
     "metadata": {},
     "output_type": "execute_result"
    }
   ],
   "source": [
    "len(df[(df.index.hour >= 15) & (df.index.hour < 16) & (df.borough == \"MANHATTAN\")])\n"
   ]
  },
  {
   "cell_type": "code",
   "execution_count": 266,
   "metadata": {},
   "outputs": [
    {
     "data": {
      "text/plain": [
       "array(['BRONX', 'BROOKLYN', 'MANHATTAN', nan, 'QUEENS', 'STATEN ISLAND'], dtype=object)"
      ]
     },
     "execution_count": 266,
     "metadata": {},
     "output_type": "execute_result"
    }
   ],
   "source": [
    "df.borough.unique()"
   ]
  },
  {
   "cell_type": "markdown",
   "metadata": {},
   "source": [
    "#### Vehicle type"
   ]
  },
  {
   "cell_type": "code",
   "execution_count": 282,
   "metadata": {
    "collapsed": true
   },
   "outputs": [],
   "source": [
    "df = pd.read_csv(data_file,\n",
    "                 index_col=\"UNIQUE KEY\",\n",
    "#                  usecols=[\"DATE\", \"TIME\", \"UNIQUE KEY\", \"BOROUGH\"]\n",
    "                )"
   ]
  },
  {
   "cell_type": "code",
   "execution_count": 284,
   "metadata": {
    "collapsed": true
   },
   "outputs": [],
   "source": [
    "df.rename(columns=lambda c: c.lower().replace(\" \", \"_\"), inplace=True)\n",
    "df.index.names=[\"unique_key\"]"
   ]
  },
  {
   "cell_type": "code",
   "execution_count": 285,
   "metadata": {},
   "outputs": [
    {
     "name": "stdout",
     "output_type": "stream",
     "text": [
      "<class 'pandas.core.frame.DataFrame'>\n",
      "Int64Index: 999 entries, 4144652 to 4145396\n",
      "Data columns (total 28 columns):\n",
      "date                             999 non-null object\n",
      "time                             999 non-null object\n",
      "borough                          684 non-null object\n",
      "zip_code                         684 non-null float64\n",
      "latitude                         915 non-null float64\n",
      "longitude                        915 non-null float64\n",
      "location                         915 non-null object\n",
      "on_street_name                   745 non-null object\n",
      "cross_street_name                502 non-null object\n",
      "off_street_name                  254 non-null object\n",
      "number_of_persons_injured        999 non-null int64\n",
      "number_of_persons_killed         999 non-null int64\n",
      "number_of_pedestrians_injured    999 non-null int64\n",
      "number_of_pedestrians_killed     999 non-null int64\n",
      "number_of_cyclist_injured        999 non-null int64\n",
      "number_of_cyclist_killed         999 non-null int64\n",
      "number_of_motorist_injured       999 non-null int64\n",
      "number_of_motorist_killed        999 non-null int64\n",
      "contributing_factor_vehicle_1    993 non-null object\n",
      "contributing_factor_vehicle_2    869 non-null object\n",
      "contributing_factor_vehicle_3    54 non-null object\n",
      "contributing_factor_vehicle_4    8 non-null object\n",
      "contributing_factor_vehicle_5    2 non-null object\n",
      "vehicle_type_code_1              991 non-null object\n",
      "vehicle_type_code_2              818 non-null object\n",
      "vehicle_type_code_3              51 non-null object\n",
      "vehicle_type_code_4              7 non-null object\n",
      "vehicle_type_code_5              2 non-null object\n",
      "dtypes: float64(3), int64(8), object(17)\n",
      "memory usage: 226.3+ KB\n"
     ]
    }
   ],
   "source": [
    "df.info()"
   ]
  },
  {
   "cell_type": "code",
   "execution_count": 286,
   "metadata": {},
   "outputs": [
    {
     "data": {
      "text/html": [
       "<div>\n",
       "<style>\n",
       "    .dataframe thead tr:only-child th {\n",
       "        text-align: right;\n",
       "    }\n",
       "\n",
       "    .dataframe thead th {\n",
       "        text-align: left;\n",
       "    }\n",
       "\n",
       "    .dataframe tbody tr th {\n",
       "        vertical-align: top;\n",
       "    }\n",
       "</style>\n",
       "<table border=\"1\" class=\"dataframe\">\n",
       "  <thead>\n",
       "    <tr style=\"text-align: right;\">\n",
       "      <th></th>\n",
       "      <th>zip_code</th>\n",
       "      <th>latitude</th>\n",
       "      <th>longitude</th>\n",
       "      <th>number_of_persons_injured</th>\n",
       "      <th>number_of_persons_killed</th>\n",
       "      <th>number_of_pedestrians_injured</th>\n",
       "      <th>number_of_pedestrians_killed</th>\n",
       "      <th>number_of_cyclist_injured</th>\n",
       "      <th>number_of_cyclist_killed</th>\n",
       "      <th>number_of_motorist_injured</th>\n",
       "      <th>number_of_motorist_killed</th>\n",
       "    </tr>\n",
       "  </thead>\n",
       "  <tbody>\n",
       "    <tr>\n",
       "      <th>count</th>\n",
       "      <td>684.000000</td>\n",
       "      <td>915.000000</td>\n",
       "      <td>915.000000</td>\n",
       "      <td>999.000000</td>\n",
       "      <td>999.0</td>\n",
       "      <td>999.000000</td>\n",
       "      <td>999.0</td>\n",
       "      <td>999.000000</td>\n",
       "      <td>999.0</td>\n",
       "      <td>999.000000</td>\n",
       "      <td>999.0</td>\n",
       "    </tr>\n",
       "    <tr>\n",
       "      <th>mean</th>\n",
       "      <td>10908.352339</td>\n",
       "      <td>40.725401</td>\n",
       "      <td>-73.911123</td>\n",
       "      <td>0.280280</td>\n",
       "      <td>0.0</td>\n",
       "      <td>0.039039</td>\n",
       "      <td>0.0</td>\n",
       "      <td>0.034034</td>\n",
       "      <td>0.0</td>\n",
       "      <td>0.207207</td>\n",
       "      <td>0.0</td>\n",
       "    </tr>\n",
       "    <tr>\n",
       "      <th>std</th>\n",
       "      <td>530.502295</td>\n",
       "      <td>0.078767</td>\n",
       "      <td>0.086977</td>\n",
       "      <td>0.613412</td>\n",
       "      <td>0.0</td>\n",
       "      <td>0.208721</td>\n",
       "      <td>0.0</td>\n",
       "      <td>0.186849</td>\n",
       "      <td>0.0</td>\n",
       "      <td>0.573381</td>\n",
       "      <td>0.0</td>\n",
       "    </tr>\n",
       "    <tr>\n",
       "      <th>min</th>\n",
       "      <td>10001.000000</td>\n",
       "      <td>40.504290</td>\n",
       "      <td>-74.246086</td>\n",
       "      <td>0.000000</td>\n",
       "      <td>0.0</td>\n",
       "      <td>0.000000</td>\n",
       "      <td>0.0</td>\n",
       "      <td>0.000000</td>\n",
       "      <td>0.0</td>\n",
       "      <td>0.000000</td>\n",
       "      <td>0.0</td>\n",
       "    </tr>\n",
       "    <tr>\n",
       "      <th>25%</th>\n",
       "      <td>10457.000000</td>\n",
       "      <td>40.671351</td>\n",
       "      <td>-73.964628</td>\n",
       "      <td>0.000000</td>\n",
       "      <td>0.0</td>\n",
       "      <td>0.000000</td>\n",
       "      <td>0.0</td>\n",
       "      <td>0.000000</td>\n",
       "      <td>0.0</td>\n",
       "      <td>0.000000</td>\n",
       "      <td>0.0</td>\n",
       "    </tr>\n",
       "    <tr>\n",
       "      <th>50%</th>\n",
       "      <td>11212.000000</td>\n",
       "      <td>40.724260</td>\n",
       "      <td>-73.916760</td>\n",
       "      <td>0.000000</td>\n",
       "      <td>0.0</td>\n",
       "      <td>0.000000</td>\n",
       "      <td>0.0</td>\n",
       "      <td>0.000000</td>\n",
       "      <td>0.0</td>\n",
       "      <td>0.000000</td>\n",
       "      <td>0.0</td>\n",
       "    </tr>\n",
       "    <tr>\n",
       "      <th>75%</th>\n",
       "      <td>11362.000000</td>\n",
       "      <td>40.773065</td>\n",
       "      <td>-73.857216</td>\n",
       "      <td>0.000000</td>\n",
       "      <td>0.0</td>\n",
       "      <td>0.000000</td>\n",
       "      <td>0.0</td>\n",
       "      <td>0.000000</td>\n",
       "      <td>0.0</td>\n",
       "      <td>0.000000</td>\n",
       "      <td>0.0</td>\n",
       "    </tr>\n",
       "    <tr>\n",
       "      <th>max</th>\n",
       "      <td>11694.000000</td>\n",
       "      <td>40.909590</td>\n",
       "      <td>-73.713120</td>\n",
       "      <td>5.000000</td>\n",
       "      <td>0.0</td>\n",
       "      <td>3.000000</td>\n",
       "      <td>0.0</td>\n",
       "      <td>2.000000</td>\n",
       "      <td>0.0</td>\n",
       "      <td>5.000000</td>\n",
       "      <td>0.0</td>\n",
       "    </tr>\n",
       "  </tbody>\n",
       "</table>\n",
       "</div>"
      ],
      "text/plain": [
       "           zip_code    latitude   longitude  number_of_persons_injured  \\\n",
       "count    684.000000  915.000000  915.000000                 999.000000   \n",
       "mean   10908.352339   40.725401  -73.911123                   0.280280   \n",
       "std      530.502295    0.078767    0.086977                   0.613412   \n",
       "min    10001.000000   40.504290  -74.246086                   0.000000   \n",
       "25%    10457.000000   40.671351  -73.964628                   0.000000   \n",
       "50%    11212.000000   40.724260  -73.916760                   0.000000   \n",
       "75%    11362.000000   40.773065  -73.857216                   0.000000   \n",
       "max    11694.000000   40.909590  -73.713120                   5.000000   \n",
       "\n",
       "       number_of_persons_killed  number_of_pedestrians_injured  \\\n",
       "count                     999.0                     999.000000   \n",
       "mean                        0.0                       0.039039   \n",
       "std                         0.0                       0.208721   \n",
       "min                         0.0                       0.000000   \n",
       "25%                         0.0                       0.000000   \n",
       "50%                         0.0                       0.000000   \n",
       "75%                         0.0                       0.000000   \n",
       "max                         0.0                       3.000000   \n",
       "\n",
       "       number_of_pedestrians_killed  number_of_cyclist_injured  \\\n",
       "count                         999.0                 999.000000   \n",
       "mean                            0.0                   0.034034   \n",
       "std                             0.0                   0.186849   \n",
       "min                             0.0                   0.000000   \n",
       "25%                             0.0                   0.000000   \n",
       "50%                             0.0                   0.000000   \n",
       "75%                             0.0                   0.000000   \n",
       "max                             0.0                   2.000000   \n",
       "\n",
       "       number_of_cyclist_killed  number_of_motorist_injured  \\\n",
       "count                     999.0                  999.000000   \n",
       "mean                        0.0                    0.207207   \n",
       "std                         0.0                    0.573381   \n",
       "min                         0.0                    0.000000   \n",
       "25%                         0.0                    0.000000   \n",
       "50%                         0.0                    0.000000   \n",
       "75%                         0.0                    0.000000   \n",
       "max                         0.0                    5.000000   \n",
       "\n",
       "       number_of_motorist_killed  \n",
       "count                      999.0  \n",
       "mean                         0.0  \n",
       "std                          0.0  \n",
       "min                          0.0  \n",
       "25%                          0.0  \n",
       "50%                          0.0  \n",
       "75%                          0.0  \n",
       "max                          0.0  "
      ]
     },
     "execution_count": 286,
     "metadata": {},
     "output_type": "execute_result"
    }
   ],
   "source": [
    "df.describe()"
   ]
  },
  {
   "cell_type": "code",
   "execution_count": 292,
   "metadata": {},
   "outputs": [
    {
     "data": {
      "text/plain": [
       "Sedan                                  449\n",
       "Station Wagon/Sport Utility Vehicle    368\n",
       "Pick-up Truck                           46\n",
       "Taxi                                    36\n",
       "Box Truck                               24\n",
       "Bus                                     17\n",
       "Van                                     12\n",
       "Tractor Truck Diesel                    12\n",
       "Bike                                     7\n",
       "Motorcycle                               6\n",
       "Convertible                              2\n",
       "Tanker                                   2\n",
       "Ambulance                                2\n",
       "Carry All                                1\n",
       "PK                                       1\n",
       "Dump                                     1\n",
       "Garbage or Refuse                        1\n",
       "TRLR                                     1\n",
       "FIRET                                    1\n",
       "Chassis Cab                              1\n",
       "Open Body                                1\n",
       "Name: vehicle_type_code_1, dtype: int64"
      ]
     },
     "execution_count": 292,
     "metadata": {},
     "output_type": "execute_result"
    }
   ],
   "source": [
    "df.vehicle_type_code_1.value_counts()"
   ]
  },
  {
   "cell_type": "code",
   "execution_count": 293,
   "metadata": {},
   "outputs": [
    {
     "data": {
      "text/plain": [
       "Sedan                                  336\n",
       "Station Wagon/Sport Utility Vehicle    287\n",
       "Bike                                    33\n",
       "Taxi                                    33\n",
       "Pick-up Truck                           30\n",
       "Box Truck                               27\n",
       "Bus                                     22\n",
       "Flat Bed                                 7\n",
       "Tractor Truck Diesel                     7\n",
       "Dump                                     4\n",
       "Carry All                                3\n",
       "Ambulance                                3\n",
       "Tractor Truck Gasoline                   2\n",
       "Motorcycle                               2\n",
       "Concrete Mixer                           2\n",
       "Van                                      2\n",
       "Tow Truck / Wrecker                      2\n",
       "PK                                       2\n",
       "WHITE                                    1\n",
       "Moped                                    1\n",
       "Vanette                                  1\n",
       "Convertible                              1\n",
       "Tanker                                   1\n",
       "BACK                                     1\n",
       "Motorscooter                             1\n",
       "van                                      1\n",
       "TRAIL                                    1\n",
       "Flat Rack                                1\n",
       "DUMP                                     1\n",
       "School Bus                               1\n",
       "FIRE                                     1\n",
       "Unkno                                    1\n",
       "Name: vehicle_type_code_2, dtype: int64"
      ]
     },
     "execution_count": 293,
     "metadata": {},
     "output_type": "execute_result"
    }
   ],
   "source": [
    "df.vehicle_type_code_2.value_counts()"
   ]
  },
  {
   "cell_type": "code",
   "execution_count": 306,
   "metadata": {},
   "outputs": [],
   "source": [
    "assert len(df[df[\"number_of_persons_killed\"] != df[\"number_of_pedestrians_killed\"] + \n",
    "         df[\"number_of_cyclist_killed\"] + df[\"number_of_motorist_killed\"]]) == 0\n",
    "\n",
    "assert len(df[df[\"number_of_persons_injured\"] != df[\"number_of_pedestrians_injured\"] + \n",
    "         df[\"number_of_cyclist_injured\"] + df[\"number_of_motorist_injured\"]]) == 0\n"
   ]
  },
  {
   "cell_type": "code",
   "execution_count": 316,
   "metadata": {},
   "outputs": [
    {
     "data": {
      "text/plain": [
       "0.2962138084632517"
      ]
     },
     "execution_count": 316,
     "metadata": {},
     "output_type": "execute_result"
    }
   ],
   "source": [
    "df[df.vehicle_type_code_1 == \"Sedan\"].number_of_persons_injured.mean()"
   ]
  },
  {
   "cell_type": "code",
   "execution_count": 317,
   "metadata": {},
   "outputs": [
    {
     "data": {
      "text/plain": [
       "0.3055555555555556"
      ]
     },
     "execution_count": 317,
     "metadata": {},
     "output_type": "execute_result"
    }
   ],
   "source": [
    "df[df.vehicle_type_code_1 == \"Taxi\"].number_of_persons_injured.mean()"
   ]
  },
  {
   "cell_type": "code",
   "execution_count": 338,
   "metadata": {},
   "outputs": [],
   "source": [
    "df[\"vehicle_type\"] = np.where(df.vehicle_type_code_1 < df.vehicle_type_code_2, df.vehicle_type_code_1 + \"-\" + df.vehicle_type_code_2, df.vehicle_type_code_2 + \"-\" + df.vehicle_type_code_1)"
   ]
  },
  {
   "cell_type": "code",
   "execution_count": 348,
   "metadata": {},
   "outputs": [
    {
     "data": {
      "text/plain": [
       "vehicle_type\n",
       "Sedan-Station Wagon/Sport Utility Vehicle                                  63\n",
       "Sedan-Sedan                                                                46\n",
       "Station Wagon/Sport Utility Vehicle-Station Wagon/Sport Utility Vehicle    44\n",
       "Bike-Sedan                                                                 16\n",
       "Bike-Station Wagon/Sport Utility Vehicle                                   10\n",
       "Sedan-Taxi                                                                  6\n",
       "Station Wagon/Sport Utility Vehicle-Taxi                                    6\n",
       "Bus-Station Wagon/Sport Utility Vehicle                                     4\n",
       "Sedan-Tow Truck / Wrecker                                                   4\n",
       "Bus-Bus                                                                     4\n",
       "Pick-up Truck-Station Wagon/Sport Utility Vehicle                           3\n",
       "Box Truck-Station Wagon/Sport Utility Vehicle                               3\n",
       "Bike-Taxi                                                                   3\n",
       "Bike-Box Truck                                                              2\n",
       "Motorcycle-Station Wagon/Sport Utility Vehicle                              2\n",
       "Sedan-Tractor Truck Diesel                                                  2\n",
       "Chassis Cab-Sedan                                                           2\n",
       "Ambulance-Sedan                                                             2\n",
       "School Bus-Sedan                                                            1\n",
       "Pick-up Truck-Sedan                                                         1\n",
       "Garbage or Refuse-Motorcycle                                                1\n",
       "Bus-Sedan                                                                   1\n",
       "Motorcycle-Sedan                                                            1\n",
       "Concrete Mixer-Sedan                                                        1\n",
       "Station Wagon/Sport Utility Vehicle-Van                                     1\n",
       "Bike-Pick-up Truck                                                          1\n",
       "Bike-Bike                                                                   1\n",
       "Box Truck-Pick-up Truck                                                     0\n",
       "BACK-Station Wagon/Sport Utility Vehicle                                    0\n",
       "Carry All-Station Wagon/Sport Utility Vehicle                               0\n",
       "                                                                           ..\n",
       "Box Truck-Taxi                                                              0\n",
       "Box Truck-Bus                                                               0\n",
       "Taxi-Van                                                                    0\n",
       "Flat Bed-Sedan                                                              0\n",
       "Convertible-Sedan                                                           0\n",
       "DUMP-Taxi                                                                   0\n",
       "Taxi-Taxi                                                                   0\n",
       "Station Wagon/Sport Utility Vehicle-Unkno                                   0\n",
       "Station Wagon/Sport Utility Vehicle-Tractor Truck Gasoline                  0\n",
       "Station Wagon/Sport Utility Vehicle-Tractor Truck Diesel                    0\n",
       "Station Wagon/Sport Utility Vehicle-Tanker                                  0\n",
       "Sedan-WHITE                                                                 0\n",
       "Sedan-Vanette                                                               0\n",
       "Sedan-Van                                                                   0\n",
       "Sedan-TRLR                                                                  0\n",
       "Sedan-TRAIL                                                                 0\n",
       "Pick-up Truck-Taxi                                                          0\n",
       "Pick-up Truck-Pick-up Truck                                                 0\n",
       "PK-Sedan                                                                    0\n",
       "PK-Pick-up Truck                                                            0\n",
       "Motorscooter-Station Wagon/Sport Utility Vehicle                            0\n",
       "Moped-Sedan                                                                 0\n",
       "Flat Rack-Station Wagon/Sport Utility Vehicle                               0\n",
       "Flat Bed-Station Wagon/Sport Utility Vehicle                                0\n",
       "Taxi-Tractor Truck Diesel                                                   0\n",
       "FIRET-Sedan                                                                 0\n",
       "FIRE-Station Wagon/Sport Utility Vehicle                                    0\n",
       "Dump-Station Wagon/Sport Utility Vehicle                                    0\n",
       "Dump-Sedan                                                                  0\n",
       "Ambulance-Bus                                                               0\n",
       "Name: number_of_persons_injured, Length: 68, dtype: int64"
      ]
     },
     "execution_count": 348,
     "metadata": {},
     "output_type": "execute_result"
    }
   ],
   "source": [
    "df.groupby(\"vehicle_type\").sum().number_of_persons_injured.sort_values(ascending=False)"
   ]
  },
  {
   "cell_type": "code",
   "execution_count": 349,
   "metadata": {},
   "outputs": [
    {
     "data": {
      "text/plain": [
       "vehicle_type\n",
       "Bus-Bus                                                                    4.000000\n",
       "Chassis Cab-Sedan                                                          2.000000\n",
       "Motorcycle-Station Wagon/Sport Utility Vehicle                             2.000000\n",
       "Sedan-Tow Truck / Wrecker                                                  2.000000\n",
       "School Bus-Sedan                                                           1.000000\n",
       "Bike-Box Truck                                                             1.000000\n",
       "Garbage or Refuse-Motorcycle                                               1.000000\n",
       "Bike-Taxi                                                                  1.000000\n",
       "Concrete Mixer-Sedan                                                       1.000000\n",
       "Bike-Bike                                                                  1.000000\n",
       "Ambulance-Sedan                                                            1.000000\n",
       "Bike-Sedan                                                                 0.941176\n",
       "Bike-Station Wagon/Sport Utility Vehicle                                   0.833333\n",
       "Bike-Pick-up Truck                                                         0.500000\n",
       "Station Wagon/Sport Utility Vehicle-Station Wagon/Sport Utility Vehicle    0.376068\n",
       "Station Wagon/Sport Utility Vehicle-Taxi                                   0.333333\n",
       "Sedan-Sedan                                                                0.300654\n",
       "Sedan-Taxi                                                                 0.300000\n",
       "Bus-Station Wagon/Sport Utility Vehicle                                    0.266667\n",
       "Sedan-Station Wagon/Sport Utility Vehicle                                  0.259259\n",
       "Motorcycle-Sedan                                                           0.250000\n",
       "Sedan-Tractor Truck Diesel                                                 0.250000\n",
       "Pick-up Truck-Station Wagon/Sport Utility Vehicle                          0.157895\n",
       "Station Wagon/Sport Utility Vehicle-Van                                    0.142857\n",
       "Box Truck-Station Wagon/Sport Utility Vehicle                              0.142857\n",
       "Bus-Sedan                                                                  0.052632\n",
       "Pick-up Truck-Sedan                                                        0.027778\n",
       "Carry All-Station Wagon/Sport Utility Vehicle                              0.000000\n",
       "Carry All-Sedan                                                            0.000000\n",
       "Box Truck-Van                                                              0.000000\n",
       "                                                                             ...   \n",
       "Concrete Mixer-Station Wagon/Sport Utility Vehicle                         0.000000\n",
       "BACK-Station Wagon/Sport Utility Vehicle                                   0.000000\n",
       "Taxi-Van                                                                   0.000000\n",
       "Flat Bed-Sedan                                                             0.000000\n",
       "Convertible-Sedan                                                          0.000000\n",
       "DUMP-Taxi                                                                  0.000000\n",
       "Taxi-Taxi                                                                  0.000000\n",
       "Station Wagon/Sport Utility Vehicle-Unkno                                  0.000000\n",
       "Station Wagon/Sport Utility Vehicle-Tractor Truck Gasoline                 0.000000\n",
       "Station Wagon/Sport Utility Vehicle-Tractor Truck Diesel                   0.000000\n",
       "Station Wagon/Sport Utility Vehicle-Tanker                                 0.000000\n",
       "Sedan-WHITE                                                                0.000000\n",
       "Sedan-Vanette                                                              0.000000\n",
       "Sedan-Van                                                                  0.000000\n",
       "Sedan-TRLR                                                                 0.000000\n",
       "Sedan-TRAIL                                                                0.000000\n",
       "Pick-up Truck-Taxi                                                         0.000000\n",
       "Pick-up Truck-Pick-up Truck                                                0.000000\n",
       "PK-Sedan                                                                   0.000000\n",
       "PK-Pick-up Truck                                                           0.000000\n",
       "Motorscooter-Station Wagon/Sport Utility Vehicle                           0.000000\n",
       "Moped-Sedan                                                                0.000000\n",
       "Flat Rack-Station Wagon/Sport Utility Vehicle                              0.000000\n",
       "Flat Bed-Station Wagon/Sport Utility Vehicle                               0.000000\n",
       "Taxi-Tractor Truck Diesel                                                  0.000000\n",
       "FIRET-Sedan                                                                0.000000\n",
       "FIRE-Station Wagon/Sport Utility Vehicle                                   0.000000\n",
       "Dump-Station Wagon/Sport Utility Vehicle                                   0.000000\n",
       "Dump-Sedan                                                                 0.000000\n",
       "Ambulance-Bus                                                              0.000000\n",
       "Name: number_of_persons_injured, Length: 68, dtype: float64"
      ]
     },
     "execution_count": 349,
     "metadata": {},
     "output_type": "execute_result"
    }
   ],
   "source": [
    "df.groupby(\"vehicle_type\").mean().number_of_persons_injured.sort_values(ascending=False)"
   ]
  },
  {
   "cell_type": "code",
   "execution_count": 363,
   "metadata": {
    "collapsed": true
   },
   "outputs": [],
   "source": [
    "from scipy.stats import ttest_ind\n",
    "a = df[df.vehicle_type == \"Bike-Station Wagon/Sport Utility Vehicle\"]\n",
    "b = df[df.vehicle_type == \"Bike-Bike\"]"
   ]
  },
  {
   "cell_type": "code",
   "execution_count": 364,
   "metadata": {},
   "outputs": [
    {
     "data": {
      "text/plain": [
       "12"
      ]
     },
     "execution_count": 364,
     "metadata": {},
     "output_type": "execute_result"
    }
   ],
   "source": [
    "len(a)"
   ]
  },
  {
   "cell_type": "code",
   "execution_count": 365,
   "metadata": {},
   "outputs": [
    {
     "data": {
      "text/plain": [
       "1"
      ]
     },
     "execution_count": 365,
     "metadata": {},
     "output_type": "execute_result"
    }
   ],
   "source": [
    "len(b)"
   ]
  },
  {
   "cell_type": "code",
   "execution_count": 366,
   "metadata": {},
   "outputs": [
    {
     "name": "stderr",
     "output_type": "stream",
     "text": [
      "/Users/Bobo/anaconda2/envs/digit_recognition/lib/python3.6/site-packages/numpy/core/fromnumeric.py:3126: RuntimeWarning: Degrees of freedom <= 0 for slice\n",
      "  **kwargs)\n",
      "/Users/Bobo/anaconda2/envs/digit_recognition/lib/python3.6/site-packages/numpy/core/_methods.py:127: RuntimeWarning: invalid value encountered in double_scalars\n",
      "  ret = ret.dtype.type(ret / rcount)\n"
     ]
    },
    {
     "data": {
      "text/plain": [
       "Ttest_indResult(statistic=nan, pvalue=nan)"
      ]
     },
     "execution_count": 366,
     "metadata": {},
     "output_type": "execute_result"
    }
   ],
   "source": [
    "ttest_ind(a[\"number_of_persons_injured\"], b[\"number_of_persons_injured\"])"
   ]
  },
  {
   "cell_type": "code",
   "execution_count": null,
   "metadata": {
    "collapsed": true
   },
   "outputs": [],
   "source": []
  }
 ],
 "metadata": {
  "kernelspec": {
   "display_name": "Python 3",
   "language": "python",
   "name": "python3"
  },
  "language_info": {
   "codemirror_mode": {
    "name": "ipython",
    "version": 3
   },
   "file_extension": ".py",
   "mimetype": "text/x-python",
   "name": "python",
   "nbconvert_exporter": "python",
   "pygments_lexer": "ipython3",
   "version": "3.6.1"
  }
 },
 "nbformat": 4,
 "nbformat_minor": 2
}
